{
 "cells": [
  {
   "cell_type": "markdown",
   "metadata": {},
   "source": [
    "# Anomaly detection - Credit card transactions - using Isolation Forest"
   ]
  },
  {
   "cell_type": "code",
   "execution_count": 17,
   "metadata": {},
   "outputs": [],
   "source": [
    "# Import libraries\n",
    "\n",
    "# Ignore all warnings.\n",
    "import warnings\n",
    "warnings.simplefilter(action='ignore', category=FutureWarning)\n",
    "warnings.simplefilter(action='ignore', category=DeprecationWarning)\n",
    "\n",
    "# Pandas for data frame\n",
    "import pandas as pd\n",
    "\n",
    "# For isolation forest model\n",
    "from sklearn.ensemble import IsolationForest, RandomForestClassifier\n",
    "\n",
    "# Numerical calculation\n",
    "import numpy as np\n",
    "\n",
    "# Default dictionary\n",
    "from collections import defaultdict\n",
    "\n",
    "# For metrics\n",
    "from sklearn.metrics import precision_score, recall_score, f1_score, accuracy_score, confusion_matrix\n",
    "\n",
    "# matplotlib for plots\n",
    "import matplotlib.pyplot as plt"
   ]
  },
  {
   "cell_type": "markdown",
   "metadata": {},
   "source": [
    "### Load train, dev and test data from previous notebook"
   ]
  },
  {
   "cell_type": "code",
   "execution_count": 18,
   "metadata": {},
   "outputs": [],
   "source": [
    "# Import data\n",
    "df_train = pd.read_csv('C:\\\\Myprojects\\\\Dev\\\\py3\\\\creditcard_train.csv')\n",
    "df_dev = pd.read_csv('C:\\\\Myprojects\\\\Dev\\\\py3\\\\creditcard_dev.csv')\n",
    "df_test = pd.read_csv('C:\\\\Myprojects\\\\Dev\\\\py3\\\\creditcard_test.csv')"
   ]
  },
  {
   "cell_type": "code",
   "execution_count": 19,
   "metadata": {},
   "outputs": [],
   "source": [
    "# Concatenate train and dev for model fitting\n",
    "df_traindev = pd.concat([df_train,df_dev])"
   ]
  },
  {
   "cell_type": "code",
   "execution_count": 20,
   "metadata": {
    "scrolled": true
   },
   "outputs": [
    {
     "data": {
      "text/plain": [
       "Index(['V1', 'V2', 'V3', 'V4', 'V5', 'V6', 'V7', 'V8', 'V9', 'V10', 'V11',\n",
       "       'V12', 'V13', 'V14', 'V15', 'V16', 'V17', 'V18', 'V19', 'V20', 'V21',\n",
       "       'V22', 'V23', 'V24', 'V25', 'V26', 'V27', 'V28', 'Amount'],\n",
       "      dtype='object')"
      ]
     },
     "execution_count": 20,
     "metadata": {},
     "output_type": "execute_result"
    }
   ],
   "source": [
    "# Columns for training\n",
    "impcol = df_traindev.columns[2:31]\n",
    "impcol"
   ]
  },
  {
   "cell_type": "markdown",
   "metadata": {},
   "source": [
    "### Use Random forest classifier only to find the feature importance using entropy value"
   ]
  },
  {
   "cell_type": "code",
   "execution_count": 21,
   "metadata": {},
   "outputs": [
    {
     "data": {
      "text/plain": [
       "Index(['V12', 'V17', 'V16', 'V14', 'V3', 'V4', 'V10', 'V9', 'V11', 'V5', 'V7',\n",
       "       'V2', 'V20', 'V1', 'V26', 'V18', 'V6', 'Amount', 'V19', 'V25', 'V28',\n",
       "       'V8', 'V21', 'V24', 'V23', 'V15', 'V27', 'V22', 'V13'],\n",
       "      dtype='object')"
      ]
     },
     "execution_count": 21,
     "metadata": {},
     "output_type": "execute_result"
    }
   ],
   "source": [
    "# Find feature importance using entropy value from Random Forest classifier\n",
    "rnd_model = RandomForestClassifier(criterion='entropy',random_state=1)\n",
    "rnd_model.fit(df_traindev[impcol],df_traindev['Class'])\n",
    "impfeat = impcol[np.argsort(rnd_model.feature_importances_)][::-1]\n",
    "impfeat"
   ]
  },
  {
   "cell_type": "code",
   "execution_count": 22,
   "metadata": {},
   "outputs": [],
   "source": [
    "# Find the ourlier fraction in train-dev dataset\n",
    "outlier_fraction = df_traindev[df_traindev.Class==1].shape[0]/df_traindev[df_traindev.Class==0].shape[0]"
   ]
  },
  {
   "cell_type": "code",
   "execution_count": 23,
   "metadata": {},
   "outputs": [],
   "source": [
    "# Function to train and predict using Isolation forest model\n",
    "def train_model(df,feat_list,label,model):\n",
    "    model.fit(df[feat_list])\n",
    "    pred = [0 if x == 1 else 1 for x in model.predict(df[feat_list])]    \n",
    "    return(\n",
    "          pred,\n",
    "          f1_score(df[label],pred),\n",
    "          recall_score(df[label],pred),\n",
    "          precision_score(df[label],pred),\n",
    "          accuracy_score(df[label],pred)\n",
    "          )"
   ]
  },
  {
   "cell_type": "markdown",
   "metadata": {},
   "source": [
    "### Training - Isolation Forest"
   ]
  },
  {
   "cell_type": "code",
   "execution_count": 24,
   "metadata": {},
   "outputs": [
    {
     "name": "stdout",
     "output_type": "stream",
     "text": [
      "Model training with 1 feature/s....\n",
      "Model training with 2 feature/s....\n",
      "Model training with 3 feature/s....\n",
      "Model training with 4 feature/s....\n",
      "Model training with 5 feature/s....\n",
      "Model training with 6 feature/s....\n",
      "Model training with 7 feature/s....\n",
      "Model training with 8 feature/s....\n",
      "Model training with 9 feature/s....\n",
      "Model training with 10 feature/s....\n",
      "Model training with 11 feature/s....\n",
      "Model training with 12 feature/s....\n",
      "Model training with 13 feature/s....\n",
      "Model training with 14 feature/s....\n",
      "Model training with 15 feature/s....\n",
      "Model training with 16 feature/s....\n",
      "Model training with 17 feature/s....\n",
      "Model training with 18 feature/s....\n",
      "Model training with 19 feature/s....\n",
      "Model training with 20 feature/s....\n",
      "Model training with 21 feature/s....\n",
      "Model training with 22 feature/s....\n",
      "Model training with 23 feature/s....\n",
      "Model training with 24 feature/s....\n",
      "Model training with 25 feature/s....\n",
      "Model training with 26 feature/s....\n",
      "Model training with 27 feature/s....\n",
      "Model training with 28 feature/s....\n",
      "Model training with 29 feature/s....\n"
     ]
    }
   ],
   "source": [
    "# Search for number of features with best F1-score\n",
    "_,f1,rec,prec,acc = defaultdict(int),defaultdict(int),defaultdict(int),defaultdict(int),defaultdict(int)\n",
    "for i in range(29):\n",
    "    print('Model training with {} feature/s....'.format(i+1))\n",
    "    iso_model = IsolationForest(contamination=outlier_fraction,random_state=1)\n",
    "    _,f1[i+1],rec[i+1],prec[i+1],acc[i+1] = train_model(df_traindev,impfeat[:i+1],'Class',iso_model)\n"
   ]
  },
  {
   "cell_type": "code",
   "execution_count": 25,
   "metadata": {},
   "outputs": [
    {
     "data": {
      "image/png": "[encoded data removed]",
      "text/plain": [
       "<Figure size 1440x576 with 1 Axes>"
      ]
     },
     "metadata": {
      "needs_background": "light"
     },
     "output_type": "display_data"
    }
   ],
   "source": [
    "# Plot the results\n",
    "plt.figure(figsize=(20,8))\n",
    "x1 = [i+1 for i in range(29)]\n",
    "y1 = [f1[i] for i in x1]\n",
    "y2 = [rec[i] for i in x1]\n",
    "y3 = [prec[i] for i in x1]\n",
    "y4 = [acc[i] for i in x1]\n",
    "\n",
    "plt.plot(x1,y1,label='F1',color='lightblue')\n",
    "plt.plot(x1,y2,label='recall',color='lightgreen')\n",
    "plt.plot(x1,y3,label='precision',color='red')\n",
    "plt.axvline(x=x1[np.argmax(y1)],ls='--',color='red')\n",
    "best_feat = x1[np.argmax(y1)]\n",
    "plt.text(x1[np.argmax(y1)]*.97,0.4,'Features='+str(best_feat),rotation=90)\n",
    "plt.xlabel('No of features')          \n",
    "plt.ylabel('Score')\n",
    "plt.title('Score vs different no of features')\n",
    "plt.legend()\n",
    "plt.grid()\n",
    "plt.show();"
   ]
  },
  {
   "cell_type": "markdown",
   "metadata": {},
   "source": [
    "### Final model and scores - dev data"
   ]
  },
  {
   "cell_type": "code",
   "execution_count": 26,
   "metadata": {},
   "outputs": [],
   "source": [
    "# Prediction using final model\n",
    "iso_model = IsolationForest(contamination=outlier_fraction,random_state=1)\n",
    "traindev_pred,traindev_f1,traindev_recall,traindev_precision,traindev_acc = train_model(df_traindev,impfeat[:best_feat],'Class',iso_model)"
   ]
  },
  {
   "cell_type": "code",
   "execution_count": 27,
   "metadata": {},
   "outputs": [
    {
     "name": "stdout",
     "output_type": "stream",
     "text": [
      "F1-score: 0.6490872210953348 \n",
      "Recall: 0.6504065040650406 \n",
      "Precision: 0.6477732793522267 \n",
      "Accuracy: 0.9992402216971603\n"
     ]
    },
    {
     "data": {
      "text/plain": [
       "array([[227365,     87],\n",
       "       [    86,    160]], dtype=int64)"
      ]
     },
     "execution_count": 27,
     "metadata": {},
     "output_type": "execute_result"
    }
   ],
   "source": [
    "# Print Scores\n",
    "print('F1-score: {} \\nRecall: {} \\nPrecision: {} \\nAccuracy: {}'.format(traindev_f1,traindev_recall,traindev_precision,traindev_acc))\n",
    "\n",
    "# Confusion matrix\n",
    "confusion_matrix(df_traindev['Class'],traindev_pred)"
   ]
  },
  {
   "cell_type": "markdown",
   "metadata": {},
   "source": [
    "### Final score on test data"
   ]
  },
  {
   "cell_type": "code",
   "execution_count": 28,
   "metadata": {},
   "outputs": [],
   "source": [
    "# Prediction\n",
    "iso_model = IsolationForest(contamination=outlier_fraction,random_state=1)\n",
    "test_pred,test_f1,test_recall,test_precision,test_acc = train_model(df_test,impfeat[:best_feat],'Class',iso_model)"
   ]
  },
  {
   "cell_type": "code",
   "execution_count": 29,
   "metadata": {},
   "outputs": [
    {
     "name": "stdout",
     "output_type": "stream",
     "text": [
      "F1-score: 0.38311688311688313 \n",
      "Recall: 0.23983739837398374 \n",
      "Precision: 0.9516129032258065 \n",
      "Accuracy: 0.996673028769546\n"
     ]
    },
    {
     "data": {
      "text/plain": [
       "array([[56860,     3],\n",
       "       [  187,    59]], dtype=int64)"
      ]
     },
     "execution_count": 29,
     "metadata": {},
     "output_type": "execute_result"
    }
   ],
   "source": [
    "# Print Scores\n",
    "print('F1-score: {} \\nRecall: {} \\nPrecision: {} \\nAccuracy: {}'.format(test_f1,test_recall,test_precision,test_acc))\n",
    "\n",
    "# Confusion matrix\n",
    "confusion_matrix(df_test['Class'],test_pred)"
   ]
  },
  {
   "cell_type": "code",
   "execution_count": null,
   "metadata": {},
   "outputs": [],
   "source": []
  }
 ],
 "metadata": {
  "kernelspec": {
   "display_name": "Python 3",
   "language": "python",
   "name": "python3"
  },
  "language_info": {
   "codemirror_mode": {
    "name": "ipython",
    "version": 3
   },
   "file_extension": ".py",
   "mimetype": "text/x-python",
   "name": "python",
   "nbconvert_exporter": "python",
   "pygments_lexer": "ipython3",
   "version": "3.7.4"
  }
 },
 "nbformat": 4,
 "nbformat_minor": 2
}
