{
 "cells": [
  {
   "cell_type": "markdown",
   "metadata": {},
   "source": [
    "# Anomaly detection - Credit card transactions - using Random Forest "
   ]
  },
  {
   "cell_type": "code",
   "execution_count": 1,
   "metadata": {},
   "outputs": [],
   "source": [
    "# Import libraries\n",
    "\n",
    "# Ignore all warnings.\n",
    "import warnings\n",
    "warnings.simplefilter(action='ignore', category=FutureWarning)\n",
    "warnings.simplefilter(action='ignore', category=DeprecationWarning)\n",
    "\n",
    "\n",
    "# Pandas for data frame\n",
    "import pandas as pd\n",
    "\n",
    "# For isolation forest model\n",
    "from sklearn.ensemble import RandomForestClassifier\n",
    "\n",
    "#X-validation\n",
    "from sklearn.model_selection import train_test_split\n",
    "\n",
    "# Numerical calculation\n",
    "import numpy as np\n",
    "\n",
    "# Default dictionary\n",
    "from collections import defaultdict\n",
    "\n",
    "# For metrics\n",
    "from sklearn.metrics import precision_score, recall_score, f1_score, accuracy_score, confusion_matrix\n",
    "\n",
    "# matplotlib for plots\n",
    "import matplotlib.pyplot as plt\n"
   ]
  },
  {
   "cell_type": "markdown",
   "metadata": {},
   "source": [
    "### Load train, dev and test data from previous notebook"
   ]
  },
  {
   "cell_type": "code",
   "execution_count": 2,
   "metadata": {},
   "outputs": [],
   "source": [
    "# Import data\n",
    "df_train = pd.read_csv('C:\\\\Myprojects\\\\Dev\\\\py3\\\\creditcard_train.csv')\n",
    "df_dev = pd.read_csv('C:\\\\Myprojects\\\\Dev\\\\py3\\\\creditcard_dev.csv')\n",
    "df_test = pd.read_csv('C:\\\\Myprojects\\\\Dev\\\\py3\\\\creditcard_test.csv')"
   ]
  },
  {
   "cell_type": "code",
   "execution_count": 3,
   "metadata": {},
   "outputs": [],
   "source": [
    "# Concatenate train and dev for model fitting\n",
    "df_traindev = pd.concat([df_train,df_dev])"
   ]
  },
  {
   "cell_type": "code",
   "execution_count": 4,
   "metadata": {
    "scrolled": true
   },
   "outputs": [
    {
     "data": {
      "text/plain": [
       "Index(['V1', 'V2', 'V3', 'V4', 'V5', 'V6', 'V7', 'V8', 'V9', 'V10', 'V11',\n",
       "       'V12', 'V13', 'V14', 'V15', 'V16', 'V17', 'V18', 'V19', 'V20', 'V21',\n",
       "       'V22', 'V23', 'V24', 'V25', 'V26', 'V27', 'V28', 'Amount'],\n",
       "      dtype='object')"
      ]
     },
     "execution_count": 4,
     "metadata": {},
     "output_type": "execute_result"
    }
   ],
   "source": [
    "# Columns for training\n",
    "impcol = df_traindev.columns[2:31]\n",
    "impcol"
   ]
  },
  {
   "cell_type": "markdown",
   "metadata": {},
   "source": [
    "### Find feature importance using entropy value from random classifier training"
   ]
  },
  {
   "cell_type": "code",
   "execution_count": 5,
   "metadata": {},
   "outputs": [
    {
     "data": {
      "text/plain": [
       "Index(['V17', 'V14', 'V12', 'V10', 'V11', 'V16', 'V4', 'V3', 'V18', 'V7', 'V9',\n",
       "       'V26', 'V1', 'V6', 'Amount', 'V19', 'V2', 'V21', 'V27', 'V28', 'V5',\n",
       "       'V20', 'V23', 'V15', 'V8', 'V25', 'V13', 'V24', 'V22'],\n",
       "      dtype='object')"
      ]
     },
     "execution_count": 5,
     "metadata": {},
     "output_type": "execute_result"
    }
   ],
   "source": [
    "# Find feature importance using entropy value from Random Forest classifier\n",
    "rnd_model = RandomForestClassifier(criterion='entropy',random_state=1)\n",
    "rnd_model.fit(df_traindev[impcol],df_traindev['Class'])\n",
    "impfeat = impcol[np.argsort(rnd_model.feature_importances_)][::-1]\n",
    "impfeat"
   ]
  },
  {
   "cell_type": "code",
   "execution_count": 6,
   "metadata": {},
   "outputs": [],
   "source": [
    "# Function to train and predict using Isolation forest model\n",
    "def train_model(df,feat_list,label,model):\n",
    "    X_train, X_test = train_test_split(df,train_size=.80,random_state=123,stratify=df[label])    \n",
    "    model.fit(X_train[feat_list], X_train[label])\n",
    "    pred = model.predict(X_test[feat_list])    \n",
    "    return(\n",
    "          pred,\n",
    "          f1_score(X_test[label],pred),\n",
    "          recall_score(X_test[label],pred),\n",
    "          precision_score(X_test[label],pred),\n",
    "          accuracy_score(X_test[label],pred)\n",
    "          )"
   ]
  },
  {
   "cell_type": "code",
   "execution_count": 7,
   "metadata": {},
   "outputs": [
    {
     "name": "stdout",
     "output_type": "stream",
     "text": [
      "Model training with 1 feature/s...\n",
      "F1: 0.5393258426966292, Recall: 0.4897959183673469, Precision: 0.6, Accuracy:0.9990996925779535\n",
      "Model training with 2 feature/s...\n",
      "F1: 0.7380952380952381, Recall: 0.6326530612244898, Precision: 0.8857142857142857, Accuracy:0.9995169082125603\n",
      "Model training with 3 feature/s...\n",
      "F1: 0.7764705882352941, Recall: 0.673469387755102, Precision: 0.9166666666666666, Accuracy:0.999582784365393\n",
      "Model training with 4 feature/s...\n",
      "F1: 0.7857142857142857, Recall: 0.673469387755102, Precision: 0.9428571428571428, Accuracy:0.999604743083004\n",
      "Model training with 5 feature/s...\n",
      "F1: 0.7710843373493975, Recall: 0.6530612244897959, Precision: 0.9411764705882353, Accuracy:0.999582784365393\n",
      "Model training with 6 feature/s...\n",
      "F1: 0.7999999999999999, Recall: 0.6938775510204082, Precision: 0.9444444444444444, Accuracy:0.9996267018006149\n",
      "Model training with 7 feature/s...\n",
      "F1: 0.8095238095238094, Recall: 0.6938775510204082, Precision: 0.9714285714285714, Accuracy:0.9996486605182258\n",
      "Model training with 8 feature/s...\n",
      "F1: 0.8095238095238094, Recall: 0.6938775510204082, Precision: 0.9714285714285714, Accuracy:0.9996486605182258\n",
      "Model training with 9 feature/s...\n",
      "F1: 0.813953488372093, Recall: 0.7142857142857143, Precision: 0.9459459459459459, Accuracy:0.9996486605182258\n",
      "Model training with 10 feature/s...\n",
      "F1: 0.7999999999999999, Recall: 0.6938775510204082, Precision: 0.9444444444444444, Accuracy:0.9996267018006149\n",
      "Model training with 11 feature/s...\n",
      "F1: 0.8095238095238094, Recall: 0.6938775510204082, Precision: 0.9714285714285714, Accuracy:0.9996486605182258\n",
      "Model training with 12 feature/s...\n",
      "F1: 0.8275862068965517, Recall: 0.7346938775510204, Precision: 0.9473684210526315, Accuracy:0.9996706192358367\n",
      "Model training with 13 feature/s...\n",
      "F1: 0.813953488372093, Recall: 0.7142857142857143, Precision: 0.9459459459459459, Accuracy:0.9996486605182258\n",
      "Model training with 14 feature/s...\n",
      "F1: 0.813953488372093, Recall: 0.7142857142857143, Precision: 0.9459459459459459, Accuracy:0.9996486605182258\n",
      "Model training with 15 feature/s...\n",
      "F1: 0.813953488372093, Recall: 0.7142857142857143, Precision: 0.9459459459459459, Accuracy:0.9996486605182258\n",
      "Model training with 16 feature/s...\n",
      "F1: 0.813953488372093, Recall: 0.7142857142857143, Precision: 0.9459459459459459, Accuracy:0.9996486605182258\n",
      "Model training with 17 feature/s...\n",
      "F1: 0.8275862068965517, Recall: 0.7346938775510204, Precision: 0.9473684210526315, Accuracy:0.9996706192358367\n",
      "Model training with 18 feature/s...\n",
      "F1: 0.813953488372093, Recall: 0.7142857142857143, Precision: 0.9459459459459459, Accuracy:0.9996486605182258\n",
      "Model training with 19 feature/s...\n",
      "F1: 0.813953488372093, Recall: 0.7142857142857143, Precision: 0.9459459459459459, Accuracy:0.9996486605182258\n",
      "Model training with 20 feature/s...\n",
      "F1: 0.813953488372093, Recall: 0.7142857142857143, Precision: 0.9459459459459459, Accuracy:0.9996486605182258\n",
      "Model training with 21 feature/s...\n",
      "F1: 0.8235294117647058, Recall: 0.7142857142857143, Precision: 0.9722222222222222, Accuracy:0.9996706192358367\n",
      "Model training with 22 feature/s...\n",
      "F1: 0.813953488372093, Recall: 0.7142857142857143, Precision: 0.9459459459459459, Accuracy:0.9996486605182258\n",
      "Model training with 23 feature/s...\n",
      "F1: 0.813953488372093, Recall: 0.7142857142857143, Precision: 0.9459459459459459, Accuracy:0.9996486605182258\n",
      "Model training with 24 feature/s...\n",
      "F1: 0.8235294117647058, Recall: 0.7142857142857143, Precision: 0.9722222222222222, Accuracy:0.9996706192358367\n",
      "Model training with 25 feature/s...\n",
      "F1: 0.813953488372093, Recall: 0.7142857142857143, Precision: 0.9459459459459459, Accuracy:0.9996486605182258\n",
      "Model training with 26 feature/s...\n",
      "F1: 0.813953488372093, Recall: 0.7142857142857143, Precision: 0.9459459459459459, Accuracy:0.9996486605182258\n",
      "Model training with 27 feature/s...\n",
      "F1: 0.8235294117647058, Recall: 0.7142857142857143, Precision: 0.9722222222222222, Accuracy:0.9996706192358367\n",
      "Model training with 28 feature/s...\n",
      "F1: 0.8235294117647058, Recall: 0.7142857142857143, Precision: 0.9722222222222222, Accuracy:0.9996706192358367\n",
      "Model training with 29 feature/s...\n",
      "F1: 0.8235294117647058, Recall: 0.7142857142857143, Precision: 0.9722222222222222, Accuracy:0.9996706192358367\n"
     ]
    }
   ],
   "source": [
    "# Search for number of features with best F1-score\n",
    "f1,rec,prec,acc = defaultdict(int),defaultdict(int),defaultdict(int),defaultdict(int)\n",
    "for i in range(29):\n",
    "    print('Model training with {} feature/s...'.format(i+1))\n",
    "    rnd_model = RandomForestClassifier(criterion='entropy',random_state=1)\n",
    "    _,f1[i+1],rec[i+1],prec[i+1],acc[i+1] = train_model(df_traindev,impfeat[:i+1],'Class',rnd_model)\n",
    "    print(\"F1: {}, Recall: {}, Precision: {}, Accuracy:{}\".format(f1[i+1],rec[i+1],prec[i+1],acc[i+1]))\n"
   ]
  },
  {
   "cell_type": "code",
   "execution_count": 8,
   "metadata": {},
   "outputs": [
    {
     "data": {
      "image/png": "[encoded data removed]",
      "text/plain": [
       "<Figure size 1440x576 with 1 Axes>"
      ]
     },
     "metadata": {
      "needs_background": "light"
     },
     "output_type": "display_data"
    }
   ],
   "source": [
    "# Plot the results\n",
    "plt.figure(figsize=(20,8))\n",
    "x1 = [i+1 for i in range(29)]\n",
    "y1 = [f1[i] for i in x1]\n",
    "y2 = [rec[i] for i in x1]\n",
    "y3 = [prec[i] for i in x1]\n",
    "y4 = [acc[i] for i in x1]\n",
    "\n",
    "plt.plot(x1,y1,label='F1',color='lightblue')\n",
    "plt.plot(x1,y2,label='recall',color='lightgreen')\n",
    "plt.plot(x1,y3,label='precision',color='red')\n",
    "plt.plot(x1,y4,label='Accuracy',color='black')\n",
    "plt.axvline(x=x1[np.argmax(y1)],ls='--',color='red')\n",
    "best_feat = x1[np.argmax(y1)]\n",
    "plt.text(x1[np.argmax(y1)]*.98,0.93,'Features='+str(best_feat),rotation=90)\n",
    "plt.xlabel('No of features')          \n",
    "plt.ylabel('Score')\n",
    "plt.title('Score vs different no of features')\n",
    "plt.legend()\n",
    "plt.grid()\n",
    "plt.show();"
   ]
  },
  {
   "cell_type": "markdown",
   "metadata": {},
   "source": [
    "### Final model and scores on dev data"
   ]
  },
  {
   "cell_type": "code",
   "execution_count": 14,
   "metadata": {},
   "outputs": [],
   "source": [
    "# Final model\n",
    "rnd_model = RandomForestClassifier(criterion='entropy',random_state=1)\n",
    "rnd_model.fit(df_traindev[impfeat[:best_feat]],df_traindev['Class'])\n",
    "traindev_pred=rnd_model.predict(df_traindev[impfeat[:best_feat]])\n",
    "traindev_f1 = f1_score(df_traindev['Class'],traindev_pred)\n",
    "traindev_recall = recall_score(df_traindev['Class'],traindev_pred)\n",
    "traindev_precision = precision_score(df_traindev['Class'],traindev_pred)\n",
    "traindev_acc = accuracy_score(df_traindev['Class'],traindev_pred)"
   ]
  },
  {
   "cell_type": "code",
   "execution_count": 15,
   "metadata": {},
   "outputs": [
    {
     "name": "stdout",
     "output_type": "stream",
     "text": [
      "F1-score: 1.0 \n",
      "Recall: 1.0 \n",
      "Precision: 1.0 \n",
      "Accuracy: 1.0\n"
     ]
    },
    {
     "data": {
      "text/plain": [
       "array([[227452,      0],\n",
       "       [     0,    246]], dtype=int64)"
      ]
     },
     "execution_count": 15,
     "metadata": {},
     "output_type": "execute_result"
    }
   ],
   "source": [
    "# Print Scores - for dev data\n",
    "print('F1-score: {} \\nRecall: {} \\nPrecision: {} \\nAccuracy: {}'.format(traindev_f1,traindev_recall,traindev_precision,traindev_acc))\n",
    "\n",
    "# Confusion matrix\n",
    "confusion_matrix(df_traindev['Class'],traindev_pred)"
   ]
  },
  {
   "cell_type": "markdown",
   "metadata": {},
   "source": [
    "##### 100% Accuracy in training could be due to overfitting - so there could be more room for improvement. The real test is against unknown data"
   ]
  },
  {
   "cell_type": "markdown",
   "metadata": {},
   "source": [
    "### Scores on test (Unknown) data"
   ]
  },
  {
   "cell_type": "code",
   "execution_count": 19,
   "metadata": {},
   "outputs": [],
   "source": [
    "# Prediction - test data \n",
    "test_pred=rnd_model.predict(df_test[impfeat[:best_feat]])\n",
    "test_f1 = f1_score(df_test['Class'],test_pred)\n",
    "test_recall = recall_score(df_test['Class'],test_pred)\n",
    "test_precision = precision_score(df_test['Class'],test_pred)\n",
    "test_acc = accuracy_score(df_test['Class'],test_pred)"
   ]
  },
  {
   "cell_type": "code",
   "execution_count": 20,
   "metadata": {},
   "outputs": [
    {
     "name": "stdout",
     "output_type": "stream",
     "text": [
      "F1-score: 0.8629213483146067 \n",
      "Recall: 0.7804878048780488 \n",
      "Precision: 0.964824120603015 \n",
      "Accuracy: 0.9989318671312752\n"
     ]
    },
    {
     "data": {
      "text/plain": [
       "array([[56856,     7],\n",
       "       [   54,   192]], dtype=int64)"
      ]
     },
     "execution_count": 20,
     "metadata": {},
     "output_type": "execute_result"
    }
   ],
   "source": [
    "# Print Scores\n",
    "print('F1-score: {} \\nRecall: {} \\nPrecision: {} \\nAccuracy: {}'.format(test_f1,test_recall,test_precision,test_acc))\n",
    "\n",
    "# Confusion matrix\n",
    "confusion_matrix(df_test['Class'],test_pred)"
   ]
  },
  {
   "cell_type": "markdown",
   "metadata": {},
   "source": [
    "#### 86.29% F1 score is quite encoraging"
   ]
  },
  {
   "cell_type": "code",
   "execution_count": null,
   "metadata": {},
   "outputs": [],
   "source": []
  }
 ],
 "metadata": {
  "kernelspec": {
   "display_name": "Python 3",
   "language": "python",
   "name": "python3"
  },
  "language_info": {
   "codemirror_mode": {
    "name": "ipython",
    "version": 3
   },
   "file_extension": ".py",
   "mimetype": "text/x-python",
   "name": "python",
   "nbconvert_exporter": "python",
   "pygments_lexer": "ipython3",
   "version": "3.7.4"
  }
 },
 "nbformat": 4,
 "nbformat_minor": 2
}
