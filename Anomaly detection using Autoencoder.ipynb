{
 "cells": [
  {
   "cell_type": "markdown",
   "metadata": {},
   "source": [
    "# Anomaly detection - Credit card transactions - using Autoencoder"
   ]
  },
  {
   "cell_type": "code",
   "execution_count": 993,
   "metadata": {},
   "outputs": [],
   "source": [
    "# Import libraries\n",
    "\n",
    "# Pandas for data frame\n",
    "import pandas as pd\n",
    "\n",
    "# Tensorflow for modelling\n",
    "import tensorflow as tf\n",
    "\n",
    "# Numerical calculation\n",
    "import numpy as np\n",
    "\n",
    "# For statistical test\n",
    "from scipy.stats import ttest_ind\n",
    "\n",
    "# Scaler\n",
    "from sklearn.preprocessing import StandardScaler\n",
    "\n",
    "# For metrics\n",
    "from sklearn.metrics import precision_score, recall_score, f1_score, accuracy_score, confusion_matrix, precision_recall_curve\n",
    "\n",
    "# matplotlib for plots\n",
    "import matplotlib.pyplot as plt\n",
    "\n",
    "# Seaborn for plots\n",
    "import seaborn as sns"
   ]
  },
  {
   "cell_type": "markdown",
   "metadata": {},
   "source": [
    "### Load train, dev and test data from previous notebook"
   ]
  },
  {
   "cell_type": "code",
   "execution_count": 994,
   "metadata": {},
   "outputs": [],
   "source": [
    "# Import data\n",
    "df_train = pd.read_csv('C:\\\\Myprojects\\\\Dev\\\\py3\\\\creditcard_train.csv')\n",
    "df_dev = pd.read_csv('C:\\\\Myprojects\\\\Dev\\\\py3\\\\creditcard_dev.csv')\n",
    "df_test = pd.read_csv('C:\\\\Myprojects\\\\Dev\\\\py3\\\\creditcard_test.csv')"
   ]
  },
  {
   "cell_type": "code",
   "execution_count": 995,
   "metadata": {},
   "outputs": [],
   "source": [
    "# Concatenate train and dev for model fitting\n",
    "df_traindev = pd.concat([df_train,df_dev])"
   ]
  },
  {
   "cell_type": "code",
   "execution_count": 996,
   "metadata": {
    "scrolled": true
   },
   "outputs": [
    {
     "data": {
      "text/plain": [
       "Index(['V1', 'V2', 'V3', 'V4', 'V5', 'V6', 'V7', 'V8', 'V9', 'V10', 'V11',\n",
       "       'V12', 'V13', 'V14', 'V15', 'V16', 'V17', 'V18', 'V19', 'V20', 'V21',\n",
       "       'V22', 'V23', 'V24', 'V25', 'V26', 'V27', 'V28', 'Amount'],\n",
       "      dtype='object')"
      ]
     },
     "execution_count": 996,
     "metadata": {},
     "output_type": "execute_result"
    }
   ],
   "source": [
    "# Columns for training\n",
    "features = df_traindev.columns[2:31]\n",
    "impcol=features\n",
    "impcol"
   ]
  },
  {
   "cell_type": "markdown",
   "metadata": {},
   "source": [
    "### Feature importance"
   ]
  },
  {
   "cell_type": "code",
   "execution_count": 997,
   "metadata": {},
   "outputs": [
    {
     "data": {
      "text/html": [
       "<div>\n",
       "<style scoped>\n",
       "    .dataframe tbody tr th:only-of-type {\n",
       "        vertical-align: middle;\n",
       "    }\n",
       "\n",
       "    .dataframe tbody tr th {\n",
       "        vertical-align: top;\n",
       "    }\n",
       "\n",
       "    .dataframe thead th {\n",
       "        text-align: right;\n",
       "    }\n",
       "</style>\n",
       "<table border=\"1\" class=\"dataframe\">\n",
       "  <thead>\n",
       "    <tr style=\"text-align: right;\">\n",
       "      <th></th>\n",
       "      <th>columns</th>\n",
       "      <th>pval</th>\n",
       "    </tr>\n",
       "  </thead>\n",
       "  <tbody>\n",
       "    <tr>\n",
       "      <td>0</td>\n",
       "      <td>V14</td>\n",
       "      <td>8.686017e-70</td>\n",
       "    </tr>\n",
       "    <tr>\n",
       "      <td>1</td>\n",
       "      <td>V4</td>\n",
       "      <td>8.342289e-67</td>\n",
       "    </tr>\n",
       "    <tr>\n",
       "      <td>2</td>\n",
       "      <td>V11</td>\n",
       "      <td>2.419406e-61</td>\n",
       "    </tr>\n",
       "    <tr>\n",
       "      <td>3</td>\n",
       "      <td>V12</td>\n",
       "      <td>2.304468e-54</td>\n",
       "    </tr>\n",
       "    <tr>\n",
       "      <td>4</td>\n",
       "      <td>V10</td>\n",
       "      <td>2.037737e-46</td>\n",
       "    </tr>\n",
       "    <tr>\n",
       "      <td>5</td>\n",
       "      <td>V16</td>\n",
       "      <td>3.081924e-41</td>\n",
       "    </tr>\n",
       "    <tr>\n",
       "      <td>6</td>\n",
       "      <td>V9</td>\n",
       "      <td>1.462521e-40</td>\n",
       "    </tr>\n",
       "    <tr>\n",
       "      <td>7</td>\n",
       "      <td>V3</td>\n",
       "      <td>1.766157e-38</td>\n",
       "    </tr>\n",
       "    <tr>\n",
       "      <td>8</td>\n",
       "      <td>V17</td>\n",
       "      <td>2.509562e-34</td>\n",
       "    </tr>\n",
       "    <tr>\n",
       "      <td>9</td>\n",
       "      <td>V2</td>\n",
       "      <td>7.046266e-33</td>\n",
       "    </tr>\n",
       "    <tr>\n",
       "      <td>10</td>\n",
       "      <td>V6</td>\n",
       "      <td>7.395797e-27</td>\n",
       "    </tr>\n",
       "    <tr>\n",
       "      <td>11</td>\n",
       "      <td>V7</td>\n",
       "      <td>1.293363e-26</td>\n",
       "    </tr>\n",
       "    <tr>\n",
       "      <td>12</td>\n",
       "      <td>V18</td>\n",
       "      <td>4.668268e-26</td>\n",
       "    </tr>\n",
       "    <tr>\n",
       "      <td>13</td>\n",
       "      <td>V1</td>\n",
       "      <td>4.013193e-22</td>\n",
       "    </tr>\n",
       "    <tr>\n",
       "      <td>14</td>\n",
       "      <td>V5</td>\n",
       "      <td>7.376158e-19</td>\n",
       "    </tr>\n",
       "    <tr>\n",
       "      <td>15</td>\n",
       "      <td>V19</td>\n",
       "      <td>6.817791e-12</td>\n",
       "    </tr>\n",
       "    <tr>\n",
       "      <td>16</td>\n",
       "      <td>V20</td>\n",
       "      <td>5.780831e-07</td>\n",
       "    </tr>\n",
       "    <tr>\n",
       "      <td>17</td>\n",
       "      <td>V28</td>\n",
       "      <td>6.671765e-04</td>\n",
       "    </tr>\n",
       "    <tr>\n",
       "      <td>18</td>\n",
       "      <td>V21</td>\n",
       "      <td>6.907884e-03</td>\n",
       "    </tr>\n",
       "    <tr>\n",
       "      <td>19</td>\n",
       "      <td>Amount</td>\n",
       "      <td>7.688104e-02</td>\n",
       "    </tr>\n",
       "    <tr>\n",
       "      <td>20</td>\n",
       "      <td>V27</td>\n",
       "      <td>1.476592e-01</td>\n",
       "    </tr>\n",
       "    <tr>\n",
       "      <td>21</td>\n",
       "      <td>V8</td>\n",
       "      <td>1.511907e-01</td>\n",
       "    </tr>\n",
       "    <tr>\n",
       "      <td>22</td>\n",
       "      <td>V24</td>\n",
       "      <td>1.549644e-01</td>\n",
       "    </tr>\n",
       "    <tr>\n",
       "      <td>23</td>\n",
       "      <td>V25</td>\n",
       "      <td>2.461138e-01</td>\n",
       "    </tr>\n",
       "    <tr>\n",
       "      <td>24</td>\n",
       "      <td>V26</td>\n",
       "      <td>2.504349e-01</td>\n",
       "    </tr>\n",
       "    <tr>\n",
       "      <td>25</td>\n",
       "      <td>V15</td>\n",
       "      <td>2.526804e-01</td>\n",
       "    </tr>\n",
       "    <tr>\n",
       "      <td>26</td>\n",
       "      <td>V13</td>\n",
       "      <td>3.544793e-01</td>\n",
       "    </tr>\n",
       "    <tr>\n",
       "      <td>27</td>\n",
       "      <td>V23</td>\n",
       "      <td>6.697651e-01</td>\n",
       "    </tr>\n",
       "    <tr>\n",
       "      <td>28</td>\n",
       "      <td>V22</td>\n",
       "      <td>9.652101e-01</td>\n",
       "    </tr>\n",
       "  </tbody>\n",
       "</table>\n",
       "</div>"
      ],
      "text/plain": [
       "   columns          pval\n",
       "0      V14  8.686017e-70\n",
       "1       V4  8.342289e-67\n",
       "2      V11  2.419406e-61\n",
       "3      V12  2.304468e-54\n",
       "4      V10  2.037737e-46\n",
       "5      V16  3.081924e-41\n",
       "6       V9  1.462521e-40\n",
       "7       V3  1.766157e-38\n",
       "8      V17  2.509562e-34\n",
       "9       V2  7.046266e-33\n",
       "10      V6  7.395797e-27\n",
       "11      V7  1.293363e-26\n",
       "12     V18  4.668268e-26\n",
       "13      V1  4.013193e-22\n",
       "14      V5  7.376158e-19\n",
       "15     V19  6.817791e-12\n",
       "16     V20  5.780831e-07\n",
       "17     V28  6.671765e-04\n",
       "18     V21  6.907884e-03\n",
       "19  Amount  7.688104e-02\n",
       "20     V27  1.476592e-01\n",
       "21      V8  1.511907e-01\n",
       "22     V24  1.549644e-01\n",
       "23     V25  2.461138e-01\n",
       "24     V26  2.504349e-01\n",
       "25     V15  2.526804e-01\n",
       "26     V13  3.544793e-01\n",
       "27     V23  6.697651e-01\n",
       "28     V22  9.652101e-01"
      ]
     },
     "execution_count": 997,
     "metadata": {},
     "output_type": "execute_result"
    }
   ],
   "source": [
    "#Feature importance using df_traindev and df_devfraud - using t-test\n",
    "val1,val2=ttest_ind(df_traindev[df_traindev.Class==0][features], df_traindev[df_traindev.Class==1][features],axis=0, equal_var=False)\n",
    "Feat_imp = pd.DataFrame({'columns':features[np.argsort(val2)],'pval':val2[np.argsort(val2)]})\n",
    "Feat_imp"
   ]
  },
  {
   "cell_type": "code",
   "execution_count": 998,
   "metadata": {},
   "outputs": [
    {
     "data": {
      "text/plain": [
       "0     V14\n",
       "1      V4\n",
       "2     V11\n",
       "3     V12\n",
       "4     V10\n",
       "5     V16\n",
       "6      V9\n",
       "7      V3\n",
       "8     V17\n",
       "9      V2\n",
       "10     V6\n",
       "11     V7\n",
       "Name: columns, dtype: object"
      ]
     },
     "execution_count": 998,
     "metadata": {},
     "output_type": "execute_result"
    }
   ],
   "source": [
    "# Select top 12 features\n",
    "# Note: You would have to do trial and error and come up with right number of features\n",
    "impcol=Feat_imp[:12]['columns']\n",
    "impcol"
   ]
  },
  {
   "cell_type": "markdown",
   "metadata": {},
   "source": [
    "### Model creation"
   ]
  },
  {
   "cell_type": "code",
   "execution_count": 999,
   "metadata": {},
   "outputs": [],
   "source": [
    "# Setup the model\n",
    "tf.random.set_seed(306)\n",
    "model = tf.keras.models.Sequential()"
   ]
  },
  {
   "cell_type": "code",
   "execution_count": 1000,
   "metadata": {},
   "outputs": [],
   "source": [
    "#Define layer sizes. This would again be trying different combinations\n",
    "layer_sizes = [len(impcol),14,7,14,len(impcol)]\n",
    "activ_fn = ['N/A','relu','relu','relu',None]"
   ]
  },
  {
   "cell_type": "code",
   "execution_count": 1001,
   "metadata": {},
   "outputs": [],
   "source": [
    "# Construct the model\n",
    "for i in range(len(layer_sizes))[1:]:\n",
    "    model.add(\n",
    "    tf.keras.layers.Dense(\n",
    "    layer_sizes[i],\n",
    "    activation=None,\n",
    "    use_bias=True,\n",
    "    kernel_initializer=tf.keras.initializers.TruncatedNormal(stddev=layer_sizes[i-1]**-0.5))\n",
    "    )\n",
    "    \n",
    "    if activ_fn[i] != None :\n",
    "        #model.add(tf.keras.layers.BatchNormalization(momentum=0.99))\n",
    "        model.add(tf.keras.layers.Activation(activ_fn[i]))\n",
    "    "
   ]
  },
  {
   "cell_type": "code",
   "execution_count": 1002,
   "metadata": {},
   "outputs": [],
   "source": [
    "#Define early stopping parameter\n",
    "earlystopping=tf.keras.callbacks.EarlyStopping(monitor='val_loss',patience=10,verbose=0,min_delta=0.01)"
   ]
  },
  {
   "cell_type": "code",
   "execution_count": 1003,
   "metadata": {},
   "outputs": [],
   "source": [
    "#Model Compiler\n",
    "model.compile(\n",
    "    loss='mean_squared_error',\n",
    "    optimizer='adam',\n",
    "    metrics=['mse'])"
   ]
  },
  {
   "cell_type": "code",
   "execution_count": 1004,
   "metadata": {},
   "outputs": [
    {
     "data": {
      "text/plain": [
       "StandardScaler(copy=True, with_mean=True, with_std=True)"
      ]
     },
     "execution_count": 1004,
     "metadata": {},
     "output_type": "execute_result"
    }
   ],
   "source": [
    "# Setup to Normalize the data\n",
    "scaler=StandardScaler()\n",
    "scaler.fit(df_train[impcol])"
   ]
  },
  {
   "cell_type": "code",
   "execution_count": 1005,
   "metadata": {},
   "outputs": [],
   "source": [
    "# Normalize the training data and train\n",
    "X_train=scaler.transform(df_train[impcol])\n",
    "X_dev=scaler.transform(df_dev[df_dev.Class==0][impcol])\n",
    "history=model.fit(\n",
    "    X_train,X_train,\n",
    "    epochs = 250, \n",
    "    batch_size=1024,\n",
    "    verbose=0,\n",
    "    validation_data=(X_dev,X_dev),\n",
    "    callbacks=[earlystopping]\n",
    "    )"
   ]
  },
  {
   "cell_type": "code",
   "execution_count": 1006,
   "metadata": {},
   "outputs": [
    {
     "data": {
      "image/png": "[encoded data removed]",
      "text/plain": [
       "<Figure size 1440x720 with 1 Axes>"
      ]
     },
     "metadata": {
      "needs_background": "light"
     },
     "output_type": "display_data"
    }
   ],
   "source": [
    "# Plot training and validation loss\n",
    "fig = plt.figure(figsize=(20,10))\n",
    "plt.plot(history.history['loss'], label='training loss')\n",
    "plt.plot(history.history['val_loss'], label='validation loss')\n",
    "plt.ylabel('Loss')\n",
    "plt.xlabel('Epochs')\n",
    "plt.legend()\n",
    "plt.grid()\n",
    "plt.show()"
   ]
  },
  {
   "cell_type": "markdown",
   "metadata": {},
   "source": [
    "### Prediction on train/dev data"
   ]
  },
  {
   "cell_type": "code",
   "execution_count": 1007,
   "metadata": {},
   "outputs": [
    {
     "data": {
      "text/plain": [
       "(57109,)"
      ]
     },
     "execution_count": 1007,
     "metadata": {},
     "output_type": "execute_result"
    }
   ],
   "source": [
    "# Reconstruction error on test data\n",
    "X_dev=scaler.transform(df_dev[impcol])\n",
    "Recon_err_train = np.mean(np.power((model.predict(X_dev)-X_dev),2),axis=1)\n",
    "Recon_err_train.shape"
   ]
  },
  {
   "cell_type": "code",
   "execution_count": 1008,
   "metadata": {},
   "outputs": [
    {
     "name": "stdout",
     "output_type": "stream",
     "text": [
      "Histogram plots of all features, label\n"
     ]
    },
    {
     "data": {
      "image/png": "[encoded data removed]",
      "text/plain": [
       "<Figure size 1440x720 with 1 Axes>"
      ]
     },
     "metadata": {
      "needs_background": "light"
     },
     "output_type": "display_data"
    }
   ],
   "source": [
    "# Lets plot histogram of errors\n",
    "print('Histogram plots of all features, label')\n",
    "fig = plt.figure(figsize=(20,10))\n",
    "sns.distplot(Recon_err_train[df_dev.Class==0],bins=10)\n",
    "sns.distplot(Recon_err_train[df_dev.Class==1],bins=10)\n",
    "plt.legend(['No Fraud', 'Fraud'])\n",
    "plt.title(\"Histogram-Recon error\")\n",
    "plt.yscale('log')\n",
    "plt.tight_layout() \n",
    "plt.show()"
   ]
  },
  {
   "cell_type": "code",
   "execution_count": 1009,
   "metadata": {
    "scrolled": true
   },
   "outputs": [],
   "source": [
    "# Find threshold\n",
    "def find_th(Actual,Prediction,Plot=False):\n",
    "    pr, re, th = precision_recall_curve(Actual,Prediction)\n",
    "    f1 = 2*pr*re/(pr+re+1e-20)\n",
    "    if Plot==True:\n",
    "        plt.plot(th,pr[:-1],label='precision',color='blue')\n",
    "        plt.plot(th,re[:-1],label='recall',color='green')\n",
    "        plt.plot(th,f1[:-1],label='f1',color='red')\n",
    "        plt.legend()\n",
    "        plt.ylabel('Scores')\n",
    "        plt.xlabel('Threshold')\n",
    "        plt.title('Score vs Threshold')\n",
    "        plt.grid()\n",
    "        plt.tight_layout()\n",
    "        plt.show()\n",
    "        \n",
    "    return (th[np.argmax(f1)],pr[np.argmax(f1)],re[np.argmax(f1)],np.max(f1))"
   ]
  },
  {
   "cell_type": "code",
   "execution_count": 1010,
   "metadata": {},
   "outputs": [
    {
     "data": {
      "image/png": "[encoded data removed]",
      "text/plain": [
       "<Figure size 432x288 with 1 Axes>"
      ]
     },
     "metadata": {
      "needs_background": "light"
     },
     "output_type": "display_data"
    },
    {
     "name": "stdout",
     "output_type": "stream",
     "text": [
      "Threshold: 7.523811606513413 \n",
      "F1-score: 0.7887931034482758 \n",
      "Recall: 0.8394495412844036 \n",
      "Precision: 0.7439024390243902\n"
     ]
    }
   ],
   "source": [
    "# Search within min and max with log scale\n",
    "th,recall,precision,bestF1 = find_th(df_dev.Class,Recon_err_train,Plot=True)\n",
    "\n",
    "# Scores\n",
    "print('Threshold: {} \\nF1-score: {} \\nRecall: {} \\nPrecision: {}'.format(th,bestF1,recall,precision))\n"
   ]
  },
  {
   "cell_type": "markdown",
   "metadata": {},
   "source": [
    "### Scores on test (Unknown) data"
   ]
  },
  {
   "cell_type": "code",
   "execution_count": 1011,
   "metadata": {},
   "outputs": [
    {
     "data": {
      "text/plain": [
       "(57109,)"
      ]
     },
     "execution_count": 1011,
     "metadata": {},
     "output_type": "execute_result"
    }
   ],
   "source": [
    "# Reconstruction error on test data\n",
    "X_test=scaler.transform(df_test[impcol])\n",
    "Recon_err_test = np.mean(np.power((model.predict(X_test)-X_test),2),axis=1)\n",
    "Recon_err_test.shape"
   ]
  },
  {
   "cell_type": "code",
   "execution_count": 1012,
   "metadata": {},
   "outputs": [],
   "source": [
    "# Test prediction using threshold chosen on dev data\n",
    "Test_pred = np.array([1 if x>th else 0 for x in Recon_err_test])"
   ]
  },
  {
   "cell_type": "code",
   "execution_count": 1013,
   "metadata": {},
   "outputs": [
    {
     "name": "stdout",
     "output_type": "stream",
     "text": [
      "F1-score: 0.8195329087048832 \n",
      "Recall: 0.8577777777777778 \n",
      "Precision: 0.7845528455284553 \n",
      "Accuracy: 0.9985116181337442\n"
     ]
    },
    {
     "data": {
      "text/plain": [
       "array([[56831,    32],\n",
       "       [   53,   193]], dtype=int64)"
      ]
     },
     "execution_count": 1013,
     "metadata": {},
     "output_type": "execute_result"
    }
   ],
   "source": [
    "# Print Scores\n",
    "test_recall,test_precision,test_f1,test_acc=precision_score(df_test.Class,Test_pred), recall_score(df_test.Class,Test_pred), f1_score(df_test.Class,Test_pred), accuracy_score(df_test.Class,Test_pred)\n",
    "print('F1-score: {} \\nRecall: {} \\nPrecision: {} \\nAccuracy: {}'.format(test_f1,test_recall,test_precision,test_acc))\n",
    "\n",
    "# Confusion matrix\n",
    "confusion_matrix(df_test.Class,Test_pred)"
   ]
  },
  {
   "cell_type": "code",
   "execution_count": null,
   "metadata": {},
   "outputs": [],
   "source": []
  }
 ],
 "metadata": {
  "kernelspec": {
   "display_name": "Python 3",
   "language": "python",
   "name": "python3"
  },
  "language_info": {
   "codemirror_mode": {
    "name": "ipython",
    "version": 3
   },
   "file_extension": ".py",
   "mimetype": "text/x-python",
   "name": "python",
   "nbconvert_exporter": "python",
   "pygments_lexer": "ipython3",
   "version": "3.7.4"
  }
 },
 "nbformat": 4,
 "nbformat_minor": 2
}
